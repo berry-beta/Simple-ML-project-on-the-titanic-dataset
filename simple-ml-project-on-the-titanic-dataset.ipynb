{
 "cells": [
  {
   "cell_type": "code",
   "execution_count": 1,
   "metadata": {
    "_cell_guid": "b1076dfc-b9ad-4769-8c92-a6c4dae69d19",
    "_uuid": "8f2839f25d086af736a60e9eeb907d3b93b6e0e5"
   },
   "outputs": [
    {
     "name": "stdout",
     "output_type": "stream",
     "text": [
      "/kaggle/input/titanic/gender_submission.csv\n",
      "/kaggle/input/titanic/test.csv\n",
      "/kaggle/input/titanic/train.csv\n"
     ]
    }
   ],
   "source": [
    "# This Python 3 environment comes with many helpful analytics libraries installed\n",
    "# It is defined by the kaggle/python docker image: https://github.com/kaggle/docker-python\n",
    "# For example, here's several helpful packages to load in \n",
    "\n",
    "import pandas as pd\n",
    "import matplotlib.pyplot as plt\n",
    "import seaborn as sns\n",
    "import warnings\n",
    "from sklearn.preprocessing import LabelEncoder\n",
    "from sklearn.model_selection import train_test_split\n",
    "from sklearn.model_selection import cross_val_score\n",
    "from sklearn.model_selection import StratifiedKFold\n",
    "from sklearn.model_selection import GridSearchCV\n",
    "from xgboost import XGBClassifier\n",
    "from sklearn.ensemble import RandomForestClassifier\n",
    "from sklearn.tree import DecisionTreeClassifier\n",
    "from sklearn.neighbors import KNeighborsClassifier\n",
    "from sklearn.svm import SVC\n",
    "\n",
    "sns.set()\n",
    "sns.set_palette(\"husl\",2)\n",
    "warnings.filterwarnings(\"ignore\")\n",
    "\n",
    "# Input data files are available in the \"../input/\" directory.\n",
    "# For example, running this (by clicking run or pressing Shift+Enter) will list all files under the input directory\n",
    "\n",
    "import os\n",
    "for dirname, _, filenames in os.walk('/kaggle/input'):\n",
    "    for filename in filenames:\n",
    "        print(os.path.join(dirname, filename))\n",
    "       \n",
    "# Any results you write to the current directory are saved as output."
   ]
  },
  {
   "cell_type": "code",
   "execution_count": 2,
   "metadata": {
    "_cell_guid": "79c7e3d0-c299-4dcb-8224-4455121ee9b0",
    "_uuid": "d629ff2d2480ee46fbb7e2d37f6b5fab8052498a"
   },
   "outputs": [],
   "source": [
    "train = pd.read_csv('/kaggle/input/titanic/train.csv') #importing the data"
   ]
  },
  {
   "cell_type": "markdown",
   "metadata": {},
   "source": [
    "# **I - Getting to know the data**"
   ]
  },
  {
   "cell_type": "code",
   "execution_count": 3,
   "metadata": {},
   "outputs": [
    {
     "name": "stdout",
     "output_type": "stream",
     "text": [
      "<class 'pandas.core.frame.DataFrame'>\n",
      "RangeIndex: 891 entries, 0 to 890\n",
      "Data columns (total 12 columns):\n",
      "PassengerId    891 non-null int64\n",
      "Survived       891 non-null int64\n",
      "Pclass         891 non-null int64\n",
      "Name           891 non-null object\n",
      "Sex            891 non-null object\n",
      "Age            714 non-null float64\n",
      "SibSp          891 non-null int64\n",
      "Parch          891 non-null int64\n",
      "Ticket         891 non-null object\n",
      "Fare           891 non-null float64\n",
      "Cabin          204 non-null object\n",
      "Embarked       889 non-null object\n",
      "dtypes: float64(2), int64(5), object(5)\n",
      "memory usage: 83.7+ KB\n"
     ]
    }
   ],
   "source": [
    "train.info()"
   ]
  },
  {
   "cell_type": "code",
   "execution_count": 4,
   "metadata": {},
   "outputs": [
    {
     "data": {
      "text/html": [
       "<div>\n",
       "<style scoped>\n",
       "    .dataframe tbody tr th:only-of-type {\n",
       "        vertical-align: middle;\n",
       "    }\n",
       "\n",
       "    .dataframe tbody tr th {\n",
       "        vertical-align: top;\n",
       "    }\n",
       "\n",
       "    .dataframe thead th {\n",
       "        text-align: right;\n",
       "    }\n",
       "</style>\n",
       "<table border=\"1\" class=\"dataframe\">\n",
       "  <thead>\n",
       "    <tr style=\"text-align: right;\">\n",
       "      <th></th>\n",
       "      <th>PassengerId</th>\n",
       "      <th>Survived</th>\n",
       "      <th>Pclass</th>\n",
       "      <th>Name</th>\n",
       "      <th>Sex</th>\n",
       "      <th>Age</th>\n",
       "      <th>SibSp</th>\n",
       "      <th>Parch</th>\n",
       "      <th>Ticket</th>\n",
       "      <th>Fare</th>\n",
       "      <th>Cabin</th>\n",
       "      <th>Embarked</th>\n",
       "    </tr>\n",
       "  </thead>\n",
       "  <tbody>\n",
       "    <tr>\n",
       "      <th>701</th>\n",
       "      <td>702</td>\n",
       "      <td>1</td>\n",
       "      <td>1</td>\n",
       "      <td>Silverthorne, Mr. Spencer Victor</td>\n",
       "      <td>male</td>\n",
       "      <td>35.0</td>\n",
       "      <td>0</td>\n",
       "      <td>0</td>\n",
       "      <td>PC 17475</td>\n",
       "      <td>26.2875</td>\n",
       "      <td>E24</td>\n",
       "      <td>S</td>\n",
       "    </tr>\n",
       "    <tr>\n",
       "      <th>640</th>\n",
       "      <td>641</td>\n",
       "      <td>0</td>\n",
       "      <td>3</td>\n",
       "      <td>Jensen, Mr. Hans Peder</td>\n",
       "      <td>male</td>\n",
       "      <td>20.0</td>\n",
       "      <td>0</td>\n",
       "      <td>0</td>\n",
       "      <td>350050</td>\n",
       "      <td>7.8542</td>\n",
       "      <td>NaN</td>\n",
       "      <td>S</td>\n",
       "    </tr>\n",
       "    <tr>\n",
       "      <th>570</th>\n",
       "      <td>571</td>\n",
       "      <td>1</td>\n",
       "      <td>2</td>\n",
       "      <td>Harris, Mr. George</td>\n",
       "      <td>male</td>\n",
       "      <td>62.0</td>\n",
       "      <td>0</td>\n",
       "      <td>0</td>\n",
       "      <td>S.W./PP 752</td>\n",
       "      <td>10.5000</td>\n",
       "      <td>NaN</td>\n",
       "      <td>S</td>\n",
       "    </tr>\n",
       "    <tr>\n",
       "      <th>209</th>\n",
       "      <td>210</td>\n",
       "      <td>1</td>\n",
       "      <td>1</td>\n",
       "      <td>Blank, Mr. Henry</td>\n",
       "      <td>male</td>\n",
       "      <td>40.0</td>\n",
       "      <td>0</td>\n",
       "      <td>0</td>\n",
       "      <td>112277</td>\n",
       "      <td>31.0000</td>\n",
       "      <td>A31</td>\n",
       "      <td>C</td>\n",
       "    </tr>\n",
       "    <tr>\n",
       "      <th>424</th>\n",
       "      <td>425</td>\n",
       "      <td>0</td>\n",
       "      <td>3</td>\n",
       "      <td>Rosblom, Mr. Viktor Richard</td>\n",
       "      <td>male</td>\n",
       "      <td>18.0</td>\n",
       "      <td>1</td>\n",
       "      <td>1</td>\n",
       "      <td>370129</td>\n",
       "      <td>20.2125</td>\n",
       "      <td>NaN</td>\n",
       "      <td>S</td>\n",
       "    </tr>\n",
       "    <tr>\n",
       "      <th>722</th>\n",
       "      <td>723</td>\n",
       "      <td>0</td>\n",
       "      <td>2</td>\n",
       "      <td>Gillespie, Mr. William Henry</td>\n",
       "      <td>male</td>\n",
       "      <td>34.0</td>\n",
       "      <td>0</td>\n",
       "      <td>0</td>\n",
       "      <td>12233</td>\n",
       "      <td>13.0000</td>\n",
       "      <td>NaN</td>\n",
       "      <td>S</td>\n",
       "    </tr>\n",
       "    <tr>\n",
       "      <th>117</th>\n",
       "      <td>118</td>\n",
       "      <td>0</td>\n",
       "      <td>2</td>\n",
       "      <td>Turpin, Mr. William John Robert</td>\n",
       "      <td>male</td>\n",
       "      <td>29.0</td>\n",
       "      <td>1</td>\n",
       "      <td>0</td>\n",
       "      <td>11668</td>\n",
       "      <td>21.0000</td>\n",
       "      <td>NaN</td>\n",
       "      <td>S</td>\n",
       "    </tr>\n",
       "    <tr>\n",
       "      <th>206</th>\n",
       "      <td>207</td>\n",
       "      <td>0</td>\n",
       "      <td>3</td>\n",
       "      <td>Backstrom, Mr. Karl Alfred</td>\n",
       "      <td>male</td>\n",
       "      <td>32.0</td>\n",
       "      <td>1</td>\n",
       "      <td>0</td>\n",
       "      <td>3101278</td>\n",
       "      <td>15.8500</td>\n",
       "      <td>NaN</td>\n",
       "      <td>S</td>\n",
       "    </tr>\n",
       "    <tr>\n",
       "      <th>243</th>\n",
       "      <td>244</td>\n",
       "      <td>0</td>\n",
       "      <td>3</td>\n",
       "      <td>Maenpaa, Mr. Matti Alexanteri</td>\n",
       "      <td>male</td>\n",
       "      <td>22.0</td>\n",
       "      <td>0</td>\n",
       "      <td>0</td>\n",
       "      <td>STON/O 2. 3101275</td>\n",
       "      <td>7.1250</td>\n",
       "      <td>NaN</td>\n",
       "      <td>S</td>\n",
       "    </tr>\n",
       "    <tr>\n",
       "      <th>110</th>\n",
       "      <td>111</td>\n",
       "      <td>0</td>\n",
       "      <td>1</td>\n",
       "      <td>Porter, Mr. Walter Chamberlain</td>\n",
       "      <td>male</td>\n",
       "      <td>47.0</td>\n",
       "      <td>0</td>\n",
       "      <td>0</td>\n",
       "      <td>110465</td>\n",
       "      <td>52.0000</td>\n",
       "      <td>C110</td>\n",
       "      <td>S</td>\n",
       "    </tr>\n",
       "  </tbody>\n",
       "</table>\n",
       "</div>"
      ],
      "text/plain": [
       "     PassengerId  Survived  Pclass                              Name   Sex  \\\n",
       "701          702         1       1  Silverthorne, Mr. Spencer Victor  male   \n",
       "640          641         0       3            Jensen, Mr. Hans Peder  male   \n",
       "570          571         1       2                Harris, Mr. George  male   \n",
       "209          210         1       1                  Blank, Mr. Henry  male   \n",
       "424          425         0       3       Rosblom, Mr. Viktor Richard  male   \n",
       "722          723         0       2      Gillespie, Mr. William Henry  male   \n",
       "117          118         0       2   Turpin, Mr. William John Robert  male   \n",
       "206          207         0       3        Backstrom, Mr. Karl Alfred  male   \n",
       "243          244         0       3     Maenpaa, Mr. Matti Alexanteri  male   \n",
       "110          111         0       1    Porter, Mr. Walter Chamberlain  male   \n",
       "\n",
       "      Age  SibSp  Parch             Ticket     Fare Cabin Embarked  \n",
       "701  35.0      0      0           PC 17475  26.2875   E24        S  \n",
       "640  20.0      0      0             350050   7.8542   NaN        S  \n",
       "570  62.0      0      0        S.W./PP 752  10.5000   NaN        S  \n",
       "209  40.0      0      0             112277  31.0000   A31        C  \n",
       "424  18.0      1      1             370129  20.2125   NaN        S  \n",
       "722  34.0      0      0              12233  13.0000   NaN        S  \n",
       "117  29.0      1      0              11668  21.0000   NaN        S  \n",
       "206  32.0      1      0            3101278  15.8500   NaN        S  \n",
       "243  22.0      0      0  STON/O 2. 3101275   7.1250   NaN        S  \n",
       "110  47.0      0      0             110465  52.0000  C110        S  "
      ]
     },
     "execution_count": 4,
     "metadata": {},
     "output_type": "execute_result"
    }
   ],
   "source": [
    "train.sample(10)"
   ]
  },
  {
   "cell_type": "code",
   "execution_count": 5,
   "metadata": {},
   "outputs": [
    {
     "data": {
      "text/html": [
       "<div>\n",
       "<style scoped>\n",
       "    .dataframe tbody tr th:only-of-type {\n",
       "        vertical-align: middle;\n",
       "    }\n",
       "\n",
       "    .dataframe tbody tr th {\n",
       "        vertical-align: top;\n",
       "    }\n",
       "\n",
       "    .dataframe thead th {\n",
       "        text-align: right;\n",
       "    }\n",
       "</style>\n",
       "<table border=\"1\" class=\"dataframe\">\n",
       "  <thead>\n",
       "    <tr style=\"text-align: right;\">\n",
       "      <th></th>\n",
       "      <th>PassengerId</th>\n",
       "      <th>Survived</th>\n",
       "      <th>Pclass</th>\n",
       "      <th>Age</th>\n",
       "      <th>SibSp</th>\n",
       "      <th>Parch</th>\n",
       "      <th>Fare</th>\n",
       "    </tr>\n",
       "  </thead>\n",
       "  <tbody>\n",
       "    <tr>\n",
       "      <th>count</th>\n",
       "      <td>891.000000</td>\n",
       "      <td>891.000000</td>\n",
       "      <td>891.000000</td>\n",
       "      <td>714.000000</td>\n",
       "      <td>891.000000</td>\n",
       "      <td>891.000000</td>\n",
       "      <td>891.000000</td>\n",
       "    </tr>\n",
       "    <tr>\n",
       "      <th>mean</th>\n",
       "      <td>446.000000</td>\n",
       "      <td>0.383838</td>\n",
       "      <td>2.308642</td>\n",
       "      <td>29.699118</td>\n",
       "      <td>0.523008</td>\n",
       "      <td>0.381594</td>\n",
       "      <td>32.204208</td>\n",
       "    </tr>\n",
       "    <tr>\n",
       "      <th>std</th>\n",
       "      <td>257.353842</td>\n",
       "      <td>0.486592</td>\n",
       "      <td>0.836071</td>\n",
       "      <td>14.526497</td>\n",
       "      <td>1.102743</td>\n",
       "      <td>0.806057</td>\n",
       "      <td>49.693429</td>\n",
       "    </tr>\n",
       "    <tr>\n",
       "      <th>min</th>\n",
       "      <td>1.000000</td>\n",
       "      <td>0.000000</td>\n",
       "      <td>1.000000</td>\n",
       "      <td>0.420000</td>\n",
       "      <td>0.000000</td>\n",
       "      <td>0.000000</td>\n",
       "      <td>0.000000</td>\n",
       "    </tr>\n",
       "    <tr>\n",
       "      <th>25%</th>\n",
       "      <td>223.500000</td>\n",
       "      <td>0.000000</td>\n",
       "      <td>2.000000</td>\n",
       "      <td>20.125000</td>\n",
       "      <td>0.000000</td>\n",
       "      <td>0.000000</td>\n",
       "      <td>7.910400</td>\n",
       "    </tr>\n",
       "    <tr>\n",
       "      <th>50%</th>\n",
       "      <td>446.000000</td>\n",
       "      <td>0.000000</td>\n",
       "      <td>3.000000</td>\n",
       "      <td>28.000000</td>\n",
       "      <td>0.000000</td>\n",
       "      <td>0.000000</td>\n",
       "      <td>14.454200</td>\n",
       "    </tr>\n",
       "    <tr>\n",
       "      <th>75%</th>\n",
       "      <td>668.500000</td>\n",
       "      <td>1.000000</td>\n",
       "      <td>3.000000</td>\n",
       "      <td>38.000000</td>\n",
       "      <td>1.000000</td>\n",
       "      <td>0.000000</td>\n",
       "      <td>31.000000</td>\n",
       "    </tr>\n",
       "    <tr>\n",
       "      <th>max</th>\n",
       "      <td>891.000000</td>\n",
       "      <td>1.000000</td>\n",
       "      <td>3.000000</td>\n",
       "      <td>80.000000</td>\n",
       "      <td>8.000000</td>\n",
       "      <td>6.000000</td>\n",
       "      <td>512.329200</td>\n",
       "    </tr>\n",
       "  </tbody>\n",
       "</table>\n",
       "</div>"
      ],
      "text/plain": [
       "       PassengerId    Survived      Pclass         Age       SibSp  \\\n",
       "count   891.000000  891.000000  891.000000  714.000000  891.000000   \n",
       "mean    446.000000    0.383838    2.308642   29.699118    0.523008   \n",
       "std     257.353842    0.486592    0.836071   14.526497    1.102743   \n",
       "min       1.000000    0.000000    1.000000    0.420000    0.000000   \n",
       "25%     223.500000    0.000000    2.000000   20.125000    0.000000   \n",
       "50%     446.000000    0.000000    3.000000   28.000000    0.000000   \n",
       "75%     668.500000    1.000000    3.000000   38.000000    1.000000   \n",
       "max     891.000000    1.000000    3.000000   80.000000    8.000000   \n",
       "\n",
       "            Parch        Fare  \n",
       "count  891.000000  891.000000  \n",
       "mean     0.381594   32.204208  \n",
       "std      0.806057   49.693429  \n",
       "min      0.000000    0.000000  \n",
       "25%      0.000000    7.910400  \n",
       "50%      0.000000   14.454200  \n",
       "75%      0.000000   31.000000  \n",
       "max      6.000000  512.329200  "
      ]
     },
     "execution_count": 5,
     "metadata": {},
     "output_type": "execute_result"
    }
   ],
   "source": [
    "train.describe()"
   ]
  },
  {
   "cell_type": "code",
   "execution_count": 6,
   "metadata": {},
   "outputs": [
    {
     "data": {
      "text/plain": [
       "PassengerId      0\n",
       "Survived         0\n",
       "Pclass           0\n",
       "Name             0\n",
       "Sex              0\n",
       "Age            177\n",
       "SibSp            0\n",
       "Parch            0\n",
       "Ticket           0\n",
       "Fare             0\n",
       "Cabin          687\n",
       "Embarked         2\n",
       "dtype: int64"
      ]
     },
     "execution_count": 6,
     "metadata": {},
     "output_type": "execute_result"
    }
   ],
   "source": [
    "train.isna().sum()"
   ]
  },
  {
   "cell_type": "markdown",
   "metadata": {},
   "source": [
    "# **II - Cleaning the data :**\n",
    " - The Cabin column has 687 NaN values out of 891 lines : let's drop the whole column, \n",
    " - Lets drop also the PassengerId and Ticket columns as values seem to be random,\n",
    " - The NaN in the Age column will be filled with the median. In the Embarked column, NaN will be replaced by the most frequent value."
   ]
  },
  {
   "cell_type": "code",
   "execution_count": 7,
   "metadata": {},
   "outputs": [],
   "source": [
    "data = train.copy() #We will work on a copy of our data\n",
    "data.drop(['PassengerId','Cabin','Ticket'],axis=1,inplace=True)\n",
    "data['Age'].fillna(data['Age'].median(),inplace=True)\n",
    "data['Embarked'].fillna(data['Embarked'].mode()[0],inplace=True)"
   ]
  },
  {
   "cell_type": "code",
   "execution_count": 8,
   "metadata": {},
   "outputs": [
    {
     "data": {
      "text/plain": [
       "Survived    0\n",
       "Pclass      0\n",
       "Name        0\n",
       "Sex         0\n",
       "Age         0\n",
       "SibSp       0\n",
       "Parch       0\n",
       "Fare        0\n",
       "Embarked    0\n",
       "dtype: int64"
      ]
     },
     "execution_count": 8,
     "metadata": {},
     "output_type": "execute_result"
    }
   ],
   "source": [
    "data.isna().sum() #one more check"
   ]
  },
  {
   "cell_type": "markdown",
   "metadata": {},
   "source": [
    "# **III - Basic feature engineering**\n",
    "1. The SibSp and Parch features reports respectively the number of spouse and sibling and the number of parents or childs accompanying each passenger. We should create a family feature summing these 2 informations\n",
    "2. The names may not help us predict survival of an individual but maybe the title will : lets replace the name feature by the title"
   ]
  },
  {
   "cell_type": "code",
   "execution_count": 9,
   "metadata": {},
   "outputs": [
    {
     "data": {
      "text/html": [
       "<div>\n",
       "<style scoped>\n",
       "    .dataframe tbody tr th:only-of-type {\n",
       "        vertical-align: middle;\n",
       "    }\n",
       "\n",
       "    .dataframe tbody tr th {\n",
       "        vertical-align: top;\n",
       "    }\n",
       "\n",
       "    .dataframe thead th {\n",
       "        text-align: right;\n",
       "    }\n",
       "</style>\n",
       "<table border=\"1\" class=\"dataframe\">\n",
       "  <thead>\n",
       "    <tr style=\"text-align: right;\">\n",
       "      <th></th>\n",
       "      <th>Family</th>\n",
       "      <th>SibSp</th>\n",
       "      <th>Parch</th>\n",
       "    </tr>\n",
       "  </thead>\n",
       "  <tbody>\n",
       "    <tr>\n",
       "      <th>739</th>\n",
       "      <td>0</td>\n",
       "      <td>0</td>\n",
       "      <td>0</td>\n",
       "    </tr>\n",
       "    <tr>\n",
       "      <th>353</th>\n",
       "      <td>1</td>\n",
       "      <td>1</td>\n",
       "      <td>0</td>\n",
       "    </tr>\n",
       "    <tr>\n",
       "      <th>540</th>\n",
       "      <td>2</td>\n",
       "      <td>0</td>\n",
       "      <td>2</td>\n",
       "    </tr>\n",
       "    <tr>\n",
       "      <th>217</th>\n",
       "      <td>1</td>\n",
       "      <td>1</td>\n",
       "      <td>0</td>\n",
       "    </tr>\n",
       "    <tr>\n",
       "      <th>551</th>\n",
       "      <td>0</td>\n",
       "      <td>0</td>\n",
       "      <td>0</td>\n",
       "    </tr>\n",
       "  </tbody>\n",
       "</table>\n",
       "</div>"
      ],
      "text/plain": [
       "     Family  SibSp  Parch\n",
       "739       0      0      0\n",
       "353       1      1      0\n",
       "540       2      0      2\n",
       "217       1      1      0\n",
       "551       0      0      0"
      ]
     },
     "execution_count": 9,
     "metadata": {},
     "output_type": "execute_result"
    }
   ],
   "source": [
    "data['Family'] = data['SibSp'] + data['Parch'] #creating the family feature\n",
    "data[['Family','SibSp','Parch']].sample(5) #quick check"
   ]
  },
  {
   "cell_type": "code",
   "execution_count": 10,
   "metadata": {},
   "outputs": [
    {
     "data": {
      "text/html": [
       "<div>\n",
       "<style scoped>\n",
       "    .dataframe tbody tr th:only-of-type {\n",
       "        vertical-align: middle;\n",
       "    }\n",
       "\n",
       "    .dataframe tbody tr th {\n",
       "        vertical-align: top;\n",
       "    }\n",
       "\n",
       "    .dataframe thead th {\n",
       "        text-align: right;\n",
       "    }\n",
       "</style>\n",
       "<table border=\"1\" class=\"dataframe\">\n",
       "  <thead>\n",
       "    <tr style=\"text-align: right;\">\n",
       "      <th></th>\n",
       "      <th>Name</th>\n",
       "      <th>Title</th>\n",
       "    </tr>\n",
       "  </thead>\n",
       "  <tbody>\n",
       "    <tr>\n",
       "      <th>796</th>\n",
       "      <td>Leader, Dr. Alice (Farnham)</td>\n",
       "      <td>Dr</td>\n",
       "    </tr>\n",
       "    <tr>\n",
       "      <th>115</th>\n",
       "      <td>Pekoniemi, Mr. Edvard</td>\n",
       "      <td>Mr</td>\n",
       "    </tr>\n",
       "    <tr>\n",
       "      <th>767</th>\n",
       "      <td>Mangan, Miss. Mary</td>\n",
       "      <td>Miss</td>\n",
       "    </tr>\n",
       "    <tr>\n",
       "      <th>317</th>\n",
       "      <td>Moraweck, Dr. Ernest</td>\n",
       "      <td>Dr</td>\n",
       "    </tr>\n",
       "    <tr>\n",
       "      <th>488</th>\n",
       "      <td>Somerton, Mr. Francis William</td>\n",
       "      <td>Mr</td>\n",
       "    </tr>\n",
       "  </tbody>\n",
       "</table>\n",
       "</div>"
      ],
      "text/plain": [
       "                              Name  Title\n",
       "796    Leader, Dr. Alice (Farnham)     Dr\n",
       "115          Pekoniemi, Mr. Edvard     Mr\n",
       "767             Mangan, Miss. Mary   Miss\n",
       "317           Moraweck, Dr. Ernest     Dr\n",
       "488  Somerton, Mr. Francis William     Mr"
      ]
     },
     "execution_count": 10,
     "metadata": {},
     "output_type": "execute_result"
    }
   ],
   "source": [
    "#Engineering the Title feature by first parsing the names to extract titles\n",
    "data['Title'] = data['Name'].apply(lambda x: x.partition(',')[2].partition('.')[0])\n",
    "data[['Name','Title']].sample(5)#quick check"
   ]
  },
  {
   "cell_type": "code",
   "execution_count": 11,
   "metadata": {},
   "outputs": [
    {
     "data": {
      "text/plain": [
       " Mr              517\n",
       " Miss            182\n",
       " Mrs             125\n",
       " Master           40\n",
       " Dr                7\n",
       " Rev               6\n",
       " Col               2\n",
       " Mlle              2\n",
       " Major             2\n",
       " Mme               1\n",
       " Sir               1\n",
       " Don               1\n",
       " Jonkheer          1\n",
       " the Countess      1\n",
       " Lady              1\n",
       " Ms                1\n",
       " Capt              1\n",
       "Name: Title, dtype: int64"
      ]
     },
     "execution_count": 11,
     "metadata": {},
     "output_type": "execute_result"
    }
   ],
   "source": [
    "data['Title'].value_counts()#desplaying the number of occurences by values"
   ]
  },
  {
   "cell_type": "markdown",
   "metadata": {},
   "source": [
    "We can see that some titles have too few occurences in the dataset to be meaningful, lets group all titles with less than 10 occurences in the same category. The number 10 is arbitratry but look like a good fit for our data. We can always change it later anyway.\n",
    "\n"
   ]
  },
  {
   "cell_type": "code",
   "execution_count": 12,
   "metadata": {},
   "outputs": [
    {
     "data": {
      "text/plain": [
       " Mr              False\n",
       " Miss            False\n",
       " Mrs             False\n",
       " Master          False\n",
       " Dr               True\n",
       " Rev              True\n",
       " Col              True\n",
       " Mlle             True\n",
       " Major            True\n",
       " Mme              True\n",
       " Sir              True\n",
       " Don              True\n",
       " Jonkheer         True\n",
       " the Countess     True\n",
       " Lady             True\n",
       " Ms               True\n",
       " Capt             True\n",
       "Name: Title, dtype: bool"
      ]
     },
     "execution_count": 12,
     "metadata": {},
     "output_type": "execute_result"
    }
   ],
   "source": [
    "rare_titles = (data['Title'].value_counts() < 10) #this line returns a Series with the titles as index and a column stating is the title is rare or not\n",
    "rare_titles"
   ]
  },
  {
   "cell_type": "code",
   "execution_count": 13,
   "metadata": {},
   "outputs": [
    {
     "data": {
      "text/plain": [
       " Mr        517\n",
       " Miss      182\n",
       " Mrs       125\n",
       " Master     40\n",
       "Rare        27\n",
       "Name: Title, dtype: int64"
      ]
     },
     "execution_count": 13,
     "metadata": {},
     "output_type": "execute_result"
    }
   ],
   "source": [
    "#Replacing rare titles with 'Rare'\n",
    "data['Title'] = data['Title'].apply(lambda x: 'Rare' if rare_titles[x] else x)\n",
    "data['Title'].value_counts()"
   ]
  },
  {
   "cell_type": "code",
   "execution_count": 14,
   "metadata": {},
   "outputs": [],
   "source": [
    "#now let's drop the column Name as we do not need it anymore\n",
    "data.drop('Name',axis=1,inplace=True)"
   ]
  },
  {
   "cell_type": "markdown",
   "metadata": {},
   "source": [
    "That's it for now regarding feature engineering."
   ]
  },
  {
   "cell_type": "code",
   "execution_count": 15,
   "metadata": {},
   "outputs": [
    {
     "data": {
      "text/html": [
       "<div>\n",
       "<style scoped>\n",
       "    .dataframe tbody tr th:only-of-type {\n",
       "        vertical-align: middle;\n",
       "    }\n",
       "\n",
       "    .dataframe tbody tr th {\n",
       "        vertical-align: top;\n",
       "    }\n",
       "\n",
       "    .dataframe thead th {\n",
       "        text-align: right;\n",
       "    }\n",
       "</style>\n",
       "<table border=\"1\" class=\"dataframe\">\n",
       "  <thead>\n",
       "    <tr style=\"text-align: right;\">\n",
       "      <th></th>\n",
       "      <th>Survived</th>\n",
       "      <th>Pclass</th>\n",
       "      <th>Sex</th>\n",
       "      <th>Age</th>\n",
       "      <th>SibSp</th>\n",
       "      <th>Parch</th>\n",
       "      <th>Fare</th>\n",
       "      <th>Embarked</th>\n",
       "      <th>Family</th>\n",
       "      <th>Title</th>\n",
       "    </tr>\n",
       "  </thead>\n",
       "  <tbody>\n",
       "    <tr>\n",
       "      <th>629</th>\n",
       "      <td>0</td>\n",
       "      <td>3</td>\n",
       "      <td>male</td>\n",
       "      <td>28.0</td>\n",
       "      <td>0</td>\n",
       "      <td>0</td>\n",
       "      <td>7.7333</td>\n",
       "      <td>Q</td>\n",
       "      <td>0</td>\n",
       "      <td>Mr</td>\n",
       "    </tr>\n",
       "    <tr>\n",
       "      <th>548</th>\n",
       "      <td>0</td>\n",
       "      <td>3</td>\n",
       "      <td>male</td>\n",
       "      <td>33.0</td>\n",
       "      <td>1</td>\n",
       "      <td>1</td>\n",
       "      <td>20.5250</td>\n",
       "      <td>S</td>\n",
       "      <td>2</td>\n",
       "      <td>Mr</td>\n",
       "    </tr>\n",
       "    <tr>\n",
       "      <th>62</th>\n",
       "      <td>0</td>\n",
       "      <td>1</td>\n",
       "      <td>male</td>\n",
       "      <td>45.0</td>\n",
       "      <td>1</td>\n",
       "      <td>0</td>\n",
       "      <td>83.4750</td>\n",
       "      <td>S</td>\n",
       "      <td>1</td>\n",
       "      <td>Mr</td>\n",
       "    </tr>\n",
       "    <tr>\n",
       "      <th>752</th>\n",
       "      <td>0</td>\n",
       "      <td>3</td>\n",
       "      <td>male</td>\n",
       "      <td>33.0</td>\n",
       "      <td>0</td>\n",
       "      <td>0</td>\n",
       "      <td>9.5000</td>\n",
       "      <td>S</td>\n",
       "      <td>0</td>\n",
       "      <td>Mr</td>\n",
       "    </tr>\n",
       "    <tr>\n",
       "      <th>692</th>\n",
       "      <td>1</td>\n",
       "      <td>3</td>\n",
       "      <td>male</td>\n",
       "      <td>28.0</td>\n",
       "      <td>0</td>\n",
       "      <td>0</td>\n",
       "      <td>56.4958</td>\n",
       "      <td>S</td>\n",
       "      <td>0</td>\n",
       "      <td>Mr</td>\n",
       "    </tr>\n",
       "  </tbody>\n",
       "</table>\n",
       "</div>"
      ],
      "text/plain": [
       "     Survived  Pclass   Sex   Age  SibSp  Parch     Fare Embarked  Family  \\\n",
       "629         0       3  male  28.0      0      0   7.7333        Q       0   \n",
       "548         0       3  male  33.0      1      1  20.5250        S       2   \n",
       "62          0       1  male  45.0      1      0  83.4750        S       1   \n",
       "752         0       3  male  33.0      0      0   9.5000        S       0   \n",
       "692         1       3  male  28.0      0      0  56.4958        S       0   \n",
       "\n",
       "    Title  \n",
       "629    Mr  \n",
       "548    Mr  \n",
       "62     Mr  \n",
       "752    Mr  \n",
       "692    Mr  "
      ]
     },
     "execution_count": 15,
     "metadata": {},
     "output_type": "execute_result"
    }
   ],
   "source": [
    "data.sample(5)# Quick look at our data"
   ]
  },
  {
   "cell_type": "markdown",
   "metadata": {},
   "source": [
    "# **IV - Data exploration**\n",
    "\n",
    "We are trying to know each feature a bit better "
   ]
  },
  {
   "cell_type": "code",
   "execution_count": 16,
   "metadata": {},
   "outputs": [
    {
     "data": {
      "text/plain": [
       "Text(0.5, 1.0, 'Survival rate per class')"
      ]
     },
     "execution_count": 16,
     "metadata": {},
     "output_type": "execute_result"
    },
    {
     "data": {
      "image/png": "[encoded data removed]",
      "text/plain": [
       "<Figure size 720x360 with 2 Axes>"
      ]
     },
     "metadata": {},
     "output_type": "display_data"
    }
   ],
   "source": [
    "# Pclass\n",
    "fig, axis = plt.subplots(1,2,figsize=(10,5))\n",
    "\n",
    "sns.countplot(x='Pclass',data=data,ax = axis[0])\n",
    "axis[0].set_title('Number of passenger per class')\n",
    "\n",
    "sns.barplot(x='Pclass',y='Survived',data=data,ax = axis[1],ci=None)\n",
    "axis[1].set_title('Survival rate per class')"
   ]
  },
  {
   "cell_type": "markdown",
   "metadata": {},
   "source": [
    "Most of the passengers were in 3rd class. Unsurprisingly a higher class means a higher chance of survival, Pclass is likely to be important to predict the survival."
   ]
  },
  {
   "cell_type": "code",
   "execution_count": 17,
   "metadata": {},
   "outputs": [
    {
     "data": {
      "text/plain": [
       "Text(0.5, 1.0, 'Survival rate per gender')"
      ]
     },
     "execution_count": 17,
     "metadata": {},
     "output_type": "execute_result"
    },
    {
     "data": {
      "image/png": "[encoded data removed]",
      "text/plain": [
       "<Figure size 720x360 with 2 Axes>"
      ]
     },
     "metadata": {},
     "output_type": "display_data"
    }
   ],
   "source": [
    "#Gender feature\n",
    "fig2, axis2 = plt.subplots(1,2,figsize=(10,5))\n",
    "\n",
    "sns.countplot(x='Sex',data=data,ax = axis2[0])\n",
    "axis2[0].set_title('Number of passenger per gender')\n",
    "\n",
    "sns.barplot(x='Sex',y='Survived',data=data,ax = axis2[1],ci=None)\n",
    "axis2[1].set_title('Survival rate per gender')"
   ]
  },
  {
   "cell_type": "markdown",
   "metadata": {},
   "source": [
    "We can see that most of the women survived and very few male did, therefore the Sex feature is likely to be a strong indicator on rather an individual survived or not."
   ]
  },
  {
   "cell_type": "code",
   "execution_count": 18,
   "metadata": {},
   "outputs": [
    {
     "data": {
      "text/plain": [
       "Text(0.5, 1.0, 'Shape of the Age distribution')"
      ]
     },
     "execution_count": 18,
     "metadata": {},
     "output_type": "execute_result"
    },
    {
     "data": {
      "image/png": "[encoded data removed]",
      "text/plain": [
       "<Figure size 720x360 with 2 Axes>"
      ]
     },
     "metadata": {},
     "output_type": "display_data"
    }
   ],
   "source": [
    "#Age feature\n",
    "fig3, axis3 = plt.subplots(1,2,figsize=(10,5))\n",
    "\n",
    "sns.boxplot(x='Age',data=data,ax = axis3[0])\n",
    "axis3[0].set_title('Distribution of the Age feature')\n",
    "\n",
    "sns.kdeplot(data[data.Survived==1].Age,shade=True,label='Alive',ax=axis3[1])\n",
    "sns.kdeplot(data[data.Survived==0].Age,shade=True,label='Dead',ax=axis3[1])\n",
    "axis3[1].set_title('Shape of the Age distribution')"
   ]
  },
  {
   "cell_type": "markdown",
   "metadata": {},
   "source": [
    "The Age values seem are included in the [0;80] interval, therefore there is no aberrant value\n",
    "The shape of the data does not show a clear difference between the dead and the alive."
   ]
  },
  {
   "cell_type": "code",
   "execution_count": 19,
   "metadata": {},
   "outputs": [
    {
     "data": {
      "text/plain": [
       "Text(0.5, 1.0, 'Survival rate per family size')"
      ]
     },
     "execution_count": 19,
     "metadata": {},
     "output_type": "execute_result"
    },
    {
     "data": {
      "image/png": "[encoded data removed]",
      "text/plain": [
       "<Figure size 720x360 with 2 Axes>"
      ]
     },
     "metadata": {},
     "output_type": "display_data"
    }
   ],
   "source": [
    "#Family feature\n",
    "fig4, axis4 = plt.subplots(1,2,figsize=(10,5))\n",
    "\n",
    "sns.countplot(x='Family',data=data,ax = axis4[0])\n",
    "axis4[0].set_title('Number of family per size category')\n",
    "\n",
    "sns.barplot(x='Family',y='Survived',data=data,ax = axis4[1],ci=None)\n",
    "axis4[1].set_title('Survival rate per family size')"
   ]
  },
  {
   "cell_type": "markdown",
   "metadata": {},
   "source": [
    "We can see that most of the passenger traveled alone and that having family seem to have a positive impact on the chance of survival up to 3 members. \n",
    "At first we would be tempted to split the data in 3 categories : alone, family size between 1 and 3 and family size of more than 3. \n",
    "However we dont have a significant number of sample for family size of more than 2. Therefore it is safer to only split in 2 categories : alone or not."
   ]
  },
  {
   "cell_type": "code",
   "execution_count": 20,
   "metadata": {},
   "outputs": [],
   "source": [
    "#creation of the feature Alone\n",
    "data['Alone'] = data['Family'].apply(lambda x : 0 if x > 0 else 1)"
   ]
  },
  {
   "cell_type": "code",
   "execution_count": 21,
   "metadata": {},
   "outputs": [
    {
     "data": {
      "text/plain": [
       "Text(0.5, 1.0, 'Survival rate per boarding location')"
      ]
     },
     "execution_count": 21,
     "metadata": {},
     "output_type": "execute_result"
    },
    {
     "data": {
      "image/png": "[encoded data removed]",
      "text/plain": [
       "<Figure size 720x360 with 2 Axes>"
      ]
     },
     "metadata": {},
     "output_type": "display_data"
    }
   ],
   "source": [
    "#examination of the Embarked feature\n",
    "fig5, axis5 = plt.subplots(1,2,figsize=(10,5))\n",
    "\n",
    "sns.countplot(x='Embarked',data=data,ax = axis5[0])\n",
    "axis5[0].set_title('Boarding location ')\n",
    "\n",
    "sns.barplot(x='Embarked',y='Survived',data=data,ax = axis5[1],ci=None)\n",
    "axis5[1].set_title('Survival rate per boarding location')"
   ]
  },
  {
   "cell_type": "markdown",
   "metadata": {},
   "source": [
    "Most passenger embarked in Southampton (S) however, passengers who boarded in Cherbourg (C) or in Queenstown (Q) had a better chance of survival. \n",
    "Let's examine the Pclass distribution for each boarding location,if most of the higher classes embarked in Cherbourg it would explain the differences."
   ]
  },
  {
   "cell_type": "code",
   "execution_count": 22,
   "metadata": {},
   "outputs": [
    {
     "data": {
      "text/plain": [
       "Text(0.5, 1.0, 'Pclass distribution per boarding location')"
      ]
     },
     "execution_count": 22,
     "metadata": {},
     "output_type": "execute_result"
    },
    {
     "data": {
      "image/png": "[encoded data removed]",
      "text/plain": [
       "<Figure size 720x360 with 1 Axes>"
      ]
     },
     "metadata": {},
     "output_type": "display_data"
    }
   ],
   "source": [
    "fig5b, axis5b = plt.subplots(1,1,figsize=(10,5))\n",
    "sns.violinplot(x = 'Embarked', y = 'Pclass', data=data,ax=axis5b)\n",
    "axis5b.set_title('Pclass distribution per boarding location')"
   ]
  },
  {
   "cell_type": "markdown",
   "metadata": {},
   "source": [
    "The graphic above does not show any clear correlation between boarding location and Pclass."
   ]
  },
  {
   "cell_type": "code",
   "execution_count": 23,
   "metadata": {},
   "outputs": [
    {
     "data": {
      "text/plain": [
       "Text(0.5, 1.0, 'Shape of the Fare distribution')"
      ]
     },
     "execution_count": 23,
     "metadata": {},
     "output_type": "execute_result"
    },
    {
     "data": {
      "image/png": "[encoded data removed]",
      "text/plain": [
       "<Figure size 720x360 with 2 Axes>"
      ]
     },
     "metadata": {},
     "output_type": "display_data"
    }
   ],
   "source": [
    "#Fare feature\n",
    "fig6, axis6 = plt.subplots(1,2,figsize=(10,5))\n",
    "\n",
    "sns.boxplot(x='Fare',data=data,ax = axis6[0])\n",
    "axis6[0].set_title('Distribution of the Fare feature')\n",
    "\n",
    "sns.kdeplot(data[data['Survived']==1]['Fare'],shade=True,label='Alive',ax=axis6[1])\n",
    "sns.kdeplot(data[data['Survived']==0]['Fare'],shade=True,label='Dead',ax=axis6[1])\n",
    "axis6[1].set_title('Shape of the Fare distribution')"
   ]
  },
  {
   "cell_type": "markdown",
   "metadata": {},
   "source": [
    "The first thing we notice is that we have an outlier in the data. There is no obvious correction and the value is 'only' twice the second highest. Let's verify that the Fare and Pclass are consistent. "
   ]
  },
  {
   "cell_type": "code",
   "execution_count": 24,
   "metadata": {},
   "outputs": [
    {
     "data": {
      "text/plain": [
       "Text(0.5, 1.0, 'Fare by Pclass')"
      ]
     },
     "execution_count": 24,
     "metadata": {},
     "output_type": "execute_result"
    },
    {
     "data": {
      "image/png": "[encoded data removed]",
      "text/plain": [
       "<Figure size 360x720 with 1 Axes>"
      ]
     },
     "metadata": {},
     "output_type": "display_data"
    }
   ],
   "source": [
    "fig6b, axis6b = plt.subplots(1,1,figsize=(5,10))\n",
    "sns.boxplot(x='Pclass',y='Fare',data=data,ax=axis6b)\n",
    "axis6b.set_title('Fare by Pclass')"
   ]
  },
  {
   "cell_type": "markdown",
   "metadata": {},
   "source": [
    "The higher the Fare, the higher the Pclass. Our outlier fare is in the first class so we should keep it in the data. "
   ]
  },
  {
   "cell_type": "code",
   "execution_count": 25,
   "metadata": {},
   "outputs": [
    {
     "data": {
      "text/plain": [
       "Text(0.5, 1.0, 'Survival rate per title category')"
      ]
     },
     "execution_count": 25,
     "metadata": {},
     "output_type": "execute_result"
    },
    {
     "data": {
      "image/png": "[encoded data removed]",
      "text/plain": [
       "<Figure size 720x360 with 2 Axes>"
      ]
     },
     "metadata": {},
     "output_type": "display_data"
    }
   ],
   "source": [
    "#examination of the Title feature\n",
    "fig7, axis7 = plt.subplots(1,2,figsize=(10,5))\n",
    "\n",
    "sns.countplot(x='Title',data=data,ax = axis7[0])\n",
    "axis7[0].set_title('Number of passenger per title category')\n",
    "\n",
    "sns.barplot(x='Title',y='Survived',data=data,ax = axis7[1],ci=None)\n",
    "axis7[1].set_title('Survival rate per title category')"
   ]
  },
  {
   "cell_type": "markdown",
   "metadata": {},
   "source": [
    "We already knew that most of the passenger were male and that female had a better chance of survival therefore it is consistant that female titles have a better chance of surivival. \n",
    "Master and the others Rare titles have a better chance of survival. This feature is therefore usefull to predict the survival."
   ]
  },
  {
   "cell_type": "markdown",
   "metadata": {},
   "source": [
    "# **V - Model selection**"
   ]
  },
  {
   "cell_type": "markdown",
   "metadata": {},
   "source": [
    "First, let's create a function with all the data preprocessing steps (cleaning, feature engineering and encoding). It will help us greatly if we want to do thoses steps multiple times, when predicting the test dataset for example."
   ]
  },
  {
   "cell_type": "code",
   "execution_count": 26,
   "metadata": {},
   "outputs": [],
   "source": [
    "\n",
    "def data_cleaning_and_feature_engineering(data):\n",
    "    '''Preprocessing steps for the titanic dataset'''\n",
    "    \n",
    "    #filling NaN \n",
    "    data['Age'].fillna(data['Age'].median(),inplace=True)\n",
    "    data['Embarked'].fillna(data['Embarked'].mode()[0],inplace=True)\n",
    "    \n",
    "    #feature engineering\n",
    "    data['Title'] = data['Name'].apply(lambda x: x.partition(',')[2].partition('.')[0])\n",
    "    rare_titles = (data['Title'].value_counts() < 10) #this line returns a Series with the titles as index and a column stating is the title is rare or not\n",
    "    data['Title'] = data['Title'].apply(lambda x: 'Rare' if rare_titles[x] else x)\n",
    "    \n",
    "    data['Family'] = data['SibSp'] + data['Parch'] #creating the family feature\n",
    "    data['Alone'] = data['Family'].apply(lambda x : 0 if x > 0 else 1)\n",
    "\n",
    "\n",
    "    #encode categoricals\n",
    "    label = LabelEncoder()\n",
    "    data['Title'] = label.fit_transform(data['Title'])\n",
    "    data['Sex'] = label.fit_transform(data['Sex'])\n",
    "    data['Embarked'] = label.fit_transform(data['Embarked'])\n",
    "  \n",
    "    #drop unused columns\n",
    "    data.drop(['PassengerId','Cabin','Ticket','Name'],axis=1,inplace=True)\n",
    "\n"
   ]
  },
  {
   "cell_type": "code",
   "execution_count": 27,
   "metadata": {},
   "outputs": [],
   "source": [
    "data2 = train.copy() #working on a fresh copy of the dataset\n",
    "data_cleaning_and_feature_engineering(data2)#applying all preprocessing steps\n",
    "\n",
    "X = data2.drop('Survived',axis=1,inplace=False)\n",
    "y = data2['Survived']"
   ]
  },
  {
   "cell_type": "markdown",
   "metadata": {},
   "source": [
    "Next we will try out a few models on select the one that gives the better score."
   ]
  },
  {
   "cell_type": "code",
   "execution_count": 28,
   "metadata": {},
   "outputs": [],
   "source": [
    "#The selection of models is arbitrary\n",
    "models =[] \n",
    "models.append(('XGBC',XGBClassifier()))\n",
    "models.append(('RDF',RandomForestClassifier()))\n",
    "models.append(('DT',DecisionTreeClassifier()))\n",
    "models.append(('KN',KNeighborsClassifier()))\n",
    "models.append(('SVM',SVC(gamma='auto')))"
   ]
  },
  {
   "cell_type": "markdown",
   "metadata": {},
   "source": [
    "Each model will be evaluated using Kfold in order to have a meaningful evaluation.\n",
    "The accuracy score is chosen as metric in this example because it's easy to understand."
   ]
  },
  {
   "cell_type": "code",
   "execution_count": 29,
   "metadata": {},
   "outputs": [
    {
     "name": "stdout",
     "output_type": "stream",
     "text": [
      "XGBC 0.8204193082669009 0.03538615614244243\n",
      "RDF 0.8047266336074321 0.0325575911705217\n",
      "DT 0.7777854497520558 0.029364414605258054\n",
      "KN 0.6981294331805913 0.03302046859344747\n",
      "SVM 0.7071558596447178 0.04414545287545926\n"
     ]
    }
   ],
   "source": [
    "names = []\n",
    "results = []\n",
    "for name,model in models:\n",
    "    kfold = StratifiedKFold(n_splits=5)\n",
    "    cv_res = cross_val_score(model, X, y, cv=kfold, scoring='accuracy')\n",
    "    results.append(cv_res)\n",
    "    names.append(name)\n",
    "    print(name, cv_res.mean(), cv_res.std())"
   ]
  },
  {
   "cell_type": "markdown",
   "metadata": {},
   "source": [
    "The most accurate model is the XGBC classifier with an accuracy score of 0.8204. Let's try to improve the score by tuning some parameter of the model using grid search. "
   ]
  },
  {
   "cell_type": "markdown",
   "metadata": {},
   "source": [
    "# **VI - Parameters tunning**"
   ]
  },
  {
   "cell_type": "markdown",
   "metadata": {},
   "source": [
    "XGBC classifier has many parameters but for this project we will focus on 7 parameters :\n",
    "\n",
    "1. learning_rate [default=0.1] : It is used to reduce the effect of each additionnal tree in order to try and avoid overfitting\n",
    "2. n_estimators [default=100] : The number of trees. \n",
    "1. min_child_weight [default=1] : Defines the minimum sum of weights of all observations required in a child, it is used to avoid over-fitting by using higher values than default.\n",
    "2. max_depth [default=6] : Controls the max depth of a tree. It is also used to control over-fitting. The deeper the tree, the more specific to a particular sample it is.\n",
    "3. gamma [default=0] : A node is split only when the resulting split gives a positive reduction in the loss function. Gamma specifies the minimum loss reduction required to make a split. \n",
    "4. subsample [default=1] : Denotes the fraction of observations to be randomly samples for each tree. The value should be tuned, smaller values reduce over-fitting but too small values lead to under-fitting.\n",
    "5. colsample_bytree [default=1] : Denotes the fraction of columns to be randomly samples for each tree. It should be tuned the same way as subsample.\n",
    "\n",
    "\n",
    "We will use the function GridSearchCV to help us find the right values. As this 'brut force' method is very computationally expensive, we will try only a few value of each parameter for this example."
   ]
  },
  {
   "cell_type": "code",
   "execution_count": 30,
   "metadata": {},
   "outputs": [
    {
     "name": "stdout",
     "output_type": "stream",
     "text": [
      "{'colsample_bytree': 0.8, 'gamma': 1, 'learning_rate': 0.1, 'max_depth': 7, 'min_child_weight': 5, 'n_estimators': 1000, 'subsample': 0.8} 0.852984746720231\n"
     ]
    }
   ],
   "source": [
    "param_test = {\n",
    "\"learning_rate\": [0.1, 0.01],\n",
    "'n_estimators' : [100, 500,1000],\n",
    "'min_child_weight':[1, 3, 5, 7],\n",
    "'max_depth': [2, 4, 7, 10],\n",
    "'gamma': [0, 1,5],\n",
    "'subsample':[0.3, 0.8, 1.0],\n",
    "'colsample_bytree':[0.3, 0.8, 1.0]\n",
    "}\n",
    "search = GridSearchCV(estimator = XGBClassifier(), \n",
    "param_grid = param_test, scoring='accuracy',n_jobs=-1,iid=False, cv=5)\n",
    "\n",
    "search.fit(X,y)\n",
    "print(search.best_params_, search.best_score_)"
   ]
  },
  {
   "cell_type": "markdown",
   "metadata": {},
   "source": [
    "After (a long) computation, the accuracy score is 0.8529 with the parameters :\n",
    "colsample_bytree: 0.8\n",
    " gamma: 1\n",
    "learning_rate : 0.1\n",
    "max_depth : 7\n",
    "min_child_weight : 5\n",
    "n_estimators : 1000\n",
    "subsample : 0.8 \n",
    "\n",
    "This is already an improvement ! Let's do this test one more time with range centered on this values."
   ]
  },
  {
   "cell_type": "code",
   "execution_count": 31,
   "metadata": {},
   "outputs": [
    {
     "name": "stdout",
     "output_type": "stream",
     "text": [
      "{'colsample_bytree': 0.9, 'gamma': 0.9, 'learning_rate': 0.1, 'max_depth': 7, 'min_child_weight': 5, 'n_estimators': 1000, 'subsample': 0.9} 0.8574665746029753\n"
     ]
    }
   ],
   "source": [
    "param_test2 = {\n",
    "\"learning_rate\": [0.1,0.06],\n",
    "'n_estimators' : [900, 1000, 1100],\n",
    "'min_child_weight':[4,5,6],\n",
    "'max_depth': [6,7,8],\n",
    "'gamma': [0.9,1],\n",
    "'subsample':[0.7,0.8,0.9],\n",
    "'colsample_bytree':[0.7,0.8,0.9]\n",
    "}\n",
    "search = GridSearchCV(estimator = XGBClassifier(), \n",
    "param_grid = param_test2, scoring='accuracy',n_jobs=-1,iid=False, cv=5)\n",
    "\n",
    "search.fit(X,y)\n",
    "print(search.best_params_, search.best_score_)"
   ]
  },
  {
   "cell_type": "markdown",
   "metadata": {},
   "source": [
    "The parameters, learning_rate, n_estimators, min_child_weight, max_depth, subsample  already reached the optimal value therefore we will leave them as they are.\n",
    "Only gamma remain to be tuned."
   ]
  },
  {
   "cell_type": "code",
   "execution_count": 32,
   "metadata": {},
   "outputs": [
    {
     "name": "stdout",
     "output_type": "stream",
     "text": [
      "{'colsample_bytree': 0.9, 'gamma': 0.9, 'learning_rate': 0.1, 'max_depth': 7, 'min_child_weight': 5, 'n_estimators': 1000, 'subsample': 0.9} 0.8574665746029753\n"
     ]
    }
   ],
   "source": [
    "param_test3 = {\n",
    "\"learning_rate\": [0.1],\n",
    "'n_estimators' : [1000],\n",
    "'min_child_weight':[5],\n",
    "'max_depth': [7],\n",
    "'gamma': [0,4,0.7,0.8, 0.9],\n",
    "'subsample':[0.9],\n",
    "'colsample_bytree':[0.9]\n",
    "}\n",
    "search = GridSearchCV(estimator = XGBClassifier(), \n",
    "param_grid = param_test3, scoring='accuracy',n_jobs=-1,iid=False, cv=5)\n",
    "\n",
    "search.fit(X,y)\n",
    "print(search.best_params_, search.best_score_)"
   ]
  },
  {
   "cell_type": "markdown",
   "metadata": {},
   "source": [
    "The final accuracy score is 0.8574, with all the default values the accuracy was 0.8204. We can conclude that it is possible to improve the accuracy score by tuning the parameters but only slightly.\n",
    "\n",
    "In order to improve the level of prediction on new data (test set on Kaggle), we could :\n",
    "- Use a different type of score for tunning the algorithm. Accuracy is easier to understand but may not be the better choice;\n",
    "- Do more advanced feature engineering;\n",
    "- Tune all the parameters of the model as only some where done here;\n",
    "- Make sure that the model is not overfitting;\n",
    "- Create ensemble of models or use stacking.\n"
   ]
  }
 ],
 "metadata": {
  "kernelspec": {
   "display_name": "Python 3",
   "language": "python",
   "name": "python3"
  },
  "language_info": {
   "codemirror_mode": {
    "name": "ipython",
    "version": 3
   },
   "file_extension": ".py",
   "mimetype": "text/x-python",
   "name": "python",
   "nbconvert_exporter": "python",
   "pygments_lexer": "ipython3",
   "version": "3.6.6"
  }
 },
 "nbformat": 4,
 "nbformat_minor": 4
}
